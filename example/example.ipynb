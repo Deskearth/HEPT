{
 "cells": [
  {
   "cell_type": "code",
   "id": "initial_id",
   "metadata": {
    "collapsed": true,
    "ExecuteTime": {
     "end_time": "2024-04-10T13:15:09.997982Z",
     "start_time": "2024-04-10T13:15:07.636792Z"
    }
   },
   "source": [
    "import sys\n",
    "sys.path.append('../src')\n",
    "\n",
    "import torch\n",
    "from pathlib import Path\n",
    "from trainer import get_new_idx_split, run_one_epoch\n",
    "from transformer import Transformer\n",
    "from torchmetrics import MeanMetric\n",
    "from torch.optim.lr_scheduler import StepLR\n",
    "\n",
    "from utils import set_seed, get_loss\n",
    "from utils.get_data import get_data_loader, get_dataset"
   ],
   "execution_count": 1,
   "outputs": []
  },
  {
   "metadata": {
    "ExecuteTime": {
     "end_time": "2024-04-10T13:15:10.003092Z",
     "start_time": "2024-04-10T13:15:09.999278Z"
    }
   },
   "cell_type": "code",
   "source": [
    "device = 'cuda:3'\n",
    "dataset_name = 'tracking-6k'\n",
    "model_name = 'trans_hept'\n",
    "seed = 0\n",
    "batch_size = 1\n",
    "main_metric = 'accuracy@0.9'\n",
    "set_seed(seed)"
   ],
   "id": "f3d50abf46285afa",
   "outputs": [],
   "execution_count": 2
  },
  {
   "metadata": {
    "ExecuteTime": {
     "end_time": "2024-04-10T13:15:10.011964Z",
     "start_time": "2024-04-10T13:15:10.003876Z"
    }
   },
   "cell_type": "code",
   "source": "model_configs = {'block_size': 100, 'n_hashes': 3, 'num_buckets': 15, 'pe_type': 'none', 'num_heads': 8, 'h_dim': 24, 'n_layers': 4, 'num_w_per_dist': 10}",
   "id": "5edd657fb7559a40",
   "outputs": [],
   "execution_count": 3
  },
  {
   "metadata": {
    "ExecuteTime": {
     "end_time": "2024-04-10T13:15:36.768407Z",
     "start_time": "2024-04-10T13:15:10.013209Z"
    }
   },
   "cell_type": "code",
   "source": [
    "dataset_dir = Path('../data/') / dataset_name.split(\"-\")[0]\n",
    "dataset = get_dataset(dataset_name, dataset_dir)\n",
    "dataset.idx_split = get_new_idx_split(dataset)\n",
    "loaders = get_data_loader(dataset, dataset.idx_split, batch_size=batch_size)"
   ],
   "id": "6d6116501b706e98",
   "outputs": [],
   "execution_count": 4
  },
  {
   "metadata": {
    "ExecuteTime": {
     "end_time": "2024-04-10T13:15:38.468525Z",
     "start_time": "2024-04-10T13:15:36.770841Z"
    }
   },
   "cell_type": "code",
   "source": [
    "model = Transformer(\n",
    "            attn_type=model_name.split(\"_\")[1],\n",
    "            in_dim=dataset.x_dim,\n",
    "            coords_dim=dataset.coords_dim,\n",
    "            task=dataset.dataset_name,\n",
    "            **model_configs).to(device)\n",
    "model.name = model_name"
   ],
   "id": "6b3b391649705898",
   "outputs": [],
   "execution_count": 5
  },
  {
   "metadata": {
    "ExecuteTime": {
     "end_time": "2024-04-10T13:15:38.477456Z",
     "start_time": "2024-04-10T13:15:38.469736Z"
    }
   },
   "cell_type": "code",
   "source": [
    "opt = torch.optim.Adam(model.parameters(), lr=1e-3)\n",
    "lr_s = StepLR(opt, step_size=500, gamma=0.5)\n",
    "criterion = get_loss('infonce', {'dist_metric': 'l2_rbf', 'tau': 0.05})\n",
    "pt_thres = [0, 0.5, 0.9]\n",
    "metric_names = [\"accuracy\", \"precision\", \"recall\"]\n",
    "metrics = {f\"{name}@{pt}\": MeanMetric(nan_strategy=\"error\") for name in metric_names for pt in pt_thres}\n",
    "metrics[\"loss\"] = MeanMetric(nan_strategy=\"error\")\n",
    "metrics[\"pt_thres\"] = pt_thres"
   ],
   "id": "8d0d75234ae914dd",
   "outputs": [],
   "execution_count": 6
  },
  {
   "metadata": {
    "ExecuteTime": {
     "end_time": "2024-04-10T13:20:55.147303Z",
     "start_time": "2024-04-10T13:15:38.478510Z"
    }
   },
   "cell_type": "code",
   "source": [
    "for epoch in range(200):\n",
    "    train_res = run_one_epoch(model, opt, criterion, loaders[\"train\"], \"train\", epoch, device, metrics, lr_s)\n",
    "    valid_res = run_one_epoch(model, opt, criterion, loaders[\"valid\"], \"valid\", epoch, device, metrics, lr_s)\n",
    "    test_res = run_one_epoch(model, opt, criterion, loaders[\"test\"], \"test\", epoch, device, metrics, lr_s)\n",
    "    \n",
    "    lr_s.step()"
   ],
   "id": "cfaebe648aa31b0d",
   "outputs": [
    {
     "name": "stderr",
     "output_type": "stream",
     "text": [
      "[Epoch 0] train, loss: 6.2424, acc: 0.0397, prec: 0.0342, recall: 0.0854: 100%|██████████| 400/400 [01:56<00:00,  3.42it/s]\n",
      "[Epoch 0] valid, loss: 6.1998, acc: 0.3594, prec: 0.2289, recall: 0.5487: 100%|██████████| 50/50 [00:10<00:00,  4.78it/s]\n",
      "[Epoch 0] test , loss: 6.0572, acc: 0.3707, prec: 0.2374, recall: 0.5667: 100%|██████████| 50/50 [00:10<00:00,  4.70it/s]\n",
      "[Epoch 1] train, loss: 4.8732, acc: 0.2942, prec: 0.2036, recall: 0.4727: 100%|██████████| 400/400 [01:50<00:00,  3.61it/s]\n",
      "[Epoch 1] valid, loss: 5.0285, acc: 0.4119, prec: 0.2514, recall: 0.6019: 100%|██████████| 50/50 [00:10<00:00,  4.86it/s]\n",
      "[Epoch 1] test , loss: 4.8916, acc: 0.4229, prec: 0.2608, recall: 0.6196: 100%|██████████| 50/50 [00:10<00:00,  4.81it/s]\n",
      "[Epoch 2] train, loss: 4.7832, acc: 0.3180:  43%|████▎     | 173/400 [00:46<01:01,  3.71it/s]\n"
     ]
    },
    {
     "ename": "KeyboardInterrupt",
     "evalue": "",
     "output_type": "error",
     "traceback": [
      "\u001B[0;31m---------------------------------------------------------------------------\u001B[0m",
      "\u001B[0;31mKeyboardInterrupt\u001B[0m                         Traceback (most recent call last)",
      "Cell \u001B[0;32mIn[7], line 2\u001B[0m\n\u001B[1;32m      1\u001B[0m \u001B[38;5;28;01mfor\u001B[39;00m epoch \u001B[38;5;129;01min\u001B[39;00m \u001B[38;5;28mrange\u001B[39m(\u001B[38;5;241m200\u001B[39m):\n\u001B[0;32m----> 2\u001B[0m     train_res \u001B[38;5;241m=\u001B[39m \u001B[43mrun_one_epoch\u001B[49m\u001B[43m(\u001B[49m\u001B[43mmodel\u001B[49m\u001B[43m,\u001B[49m\u001B[43m \u001B[49m\u001B[43mopt\u001B[49m\u001B[43m,\u001B[49m\u001B[43m \u001B[49m\u001B[43mcriterion\u001B[49m\u001B[43m,\u001B[49m\u001B[43m \u001B[49m\u001B[43mloaders\u001B[49m\u001B[43m[\u001B[49m\u001B[38;5;124;43m\"\u001B[39;49m\u001B[38;5;124;43mtrain\u001B[39;49m\u001B[38;5;124;43m\"\u001B[39;49m\u001B[43m]\u001B[49m\u001B[43m,\u001B[49m\u001B[43m \u001B[49m\u001B[38;5;124;43m\"\u001B[39;49m\u001B[38;5;124;43mtrain\u001B[39;49m\u001B[38;5;124;43m\"\u001B[39;49m\u001B[43m,\u001B[49m\u001B[43m \u001B[49m\u001B[43mepoch\u001B[49m\u001B[43m,\u001B[49m\u001B[43m \u001B[49m\u001B[43mdevice\u001B[49m\u001B[43m,\u001B[49m\u001B[43m \u001B[49m\u001B[43mmetrics\u001B[49m\u001B[43m,\u001B[49m\u001B[43m \u001B[49m\u001B[43mlr_s\u001B[49m\u001B[43m)\u001B[49m\n\u001B[1;32m      3\u001B[0m     valid_res \u001B[38;5;241m=\u001B[39m run_one_epoch(model, opt, criterion, loaders[\u001B[38;5;124m\"\u001B[39m\u001B[38;5;124mvalid\u001B[39m\u001B[38;5;124m\"\u001B[39m], \u001B[38;5;124m\"\u001B[39m\u001B[38;5;124mvalid\u001B[39m\u001B[38;5;124m\"\u001B[39m, epoch, device, metrics, lr_s)\n\u001B[1;32m      4\u001B[0m     test_res \u001B[38;5;241m=\u001B[39m run_one_epoch(model, opt, criterion, loaders[\u001B[38;5;124m\"\u001B[39m\u001B[38;5;124mtest\u001B[39m\u001B[38;5;124m\"\u001B[39m], \u001B[38;5;124m\"\u001B[39m\u001B[38;5;124mtest\u001B[39m\u001B[38;5;124m\"\u001B[39m, epoch, device, metrics, lr_s)\n",
      "File \u001B[0;32m~/workspace/HEPT/example/trainer.py:67\u001B[0m, in \u001B[0;36mrun_one_epoch\u001B[0;34m(model, optimizer, criterion, data_loader, phase, epoch, device, metrics, lr_s)\u001B[0m\n\u001B[1;32m     64\u001B[0m     torch\u001B[38;5;241m.\u001B[39mcuda\u001B[38;5;241m.\u001B[39mempty_cache()\n\u001B[1;32m     65\u001B[0m data \u001B[38;5;241m=\u001B[39m process_data(data, phase, device, epoch)\n\u001B[0;32m---> 67\u001B[0m batch_loss, batch_embeddings, batch_cluster_ids \u001B[38;5;241m=\u001B[39m \u001B[43mrun_one_batch\u001B[49m\u001B[43m(\u001B[49m\u001B[43mmodel\u001B[49m\u001B[43m,\u001B[49m\u001B[43m \u001B[49m\u001B[43moptimizer\u001B[49m\u001B[43m,\u001B[49m\u001B[43m \u001B[49m\u001B[43mcriterion\u001B[49m\u001B[43m,\u001B[49m\u001B[43m \u001B[49m\u001B[43mdata\u001B[49m\u001B[43m,\u001B[49m\u001B[43m \u001B[49m\u001B[43mlr_s\u001B[49m\u001B[43m)\u001B[49m\n\u001B[1;32m     68\u001B[0m batch_acc \u001B[38;5;241m=\u001B[39m update_metrics(metrics, data, batch_embeddings, batch_cluster_ids, criterion\u001B[38;5;241m.\u001B[39mdist_metric)\n\u001B[1;32m     69\u001B[0m metrics[\u001B[38;5;124m\"\u001B[39m\u001B[38;5;124mloss\u001B[39m\u001B[38;5;124m\"\u001B[39m]\u001B[38;5;241m.\u001B[39mupdate(batch_loss)\n",
      "File \u001B[0;32m~/workspace/HEPT/example/trainer.py:28\u001B[0m, in \u001B[0;36mtrain_one_batch\u001B[0;34m(model, optimizer, criterion, data, lr_s)\u001B[0m\n\u001B[1;32m     26\u001B[0m \u001B[38;5;28;01mdef\u001B[39;00m \u001B[38;5;21mtrain_one_batch\u001B[39m(model, optimizer, criterion, data, lr_s):\n\u001B[1;32m     27\u001B[0m     model\u001B[38;5;241m.\u001B[39mtrain()\n\u001B[0;32m---> 28\u001B[0m     embeddings \u001B[38;5;241m=\u001B[39m \u001B[43mmodel\u001B[49m\u001B[43m(\u001B[49m\u001B[43mdata\u001B[49m\u001B[43m)\u001B[49m\n\u001B[1;32m     29\u001B[0m     loss \u001B[38;5;241m=\u001B[39m criterion(embeddings, data\u001B[38;5;241m.\u001B[39mpoint_pairs_index, data\u001B[38;5;241m.\u001B[39mparticle_id, data\u001B[38;5;241m.\u001B[39mreconstructable, data\u001B[38;5;241m.\u001B[39mpt)\n\u001B[1;32m     31\u001B[0m     optimizer\u001B[38;5;241m.\u001B[39mzero_grad()\n",
      "File \u001B[0;32m~/anaconda3/envs/autogeo/lib/python3.11/site-packages/torch/nn/modules/module.py:1501\u001B[0m, in \u001B[0;36mModule._call_impl\u001B[0;34m(self, *args, **kwargs)\u001B[0m\n\u001B[1;32m   1496\u001B[0m \u001B[38;5;66;03m# If we don't have any hooks, we want to skip the rest of the logic in\u001B[39;00m\n\u001B[1;32m   1497\u001B[0m \u001B[38;5;66;03m# this function, and just call forward.\u001B[39;00m\n\u001B[1;32m   1498\u001B[0m \u001B[38;5;28;01mif\u001B[39;00m \u001B[38;5;129;01mnot\u001B[39;00m (\u001B[38;5;28mself\u001B[39m\u001B[38;5;241m.\u001B[39m_backward_hooks \u001B[38;5;129;01mor\u001B[39;00m \u001B[38;5;28mself\u001B[39m\u001B[38;5;241m.\u001B[39m_backward_pre_hooks \u001B[38;5;129;01mor\u001B[39;00m \u001B[38;5;28mself\u001B[39m\u001B[38;5;241m.\u001B[39m_forward_hooks \u001B[38;5;129;01mor\u001B[39;00m \u001B[38;5;28mself\u001B[39m\u001B[38;5;241m.\u001B[39m_forward_pre_hooks\n\u001B[1;32m   1499\u001B[0m         \u001B[38;5;129;01mor\u001B[39;00m _global_backward_pre_hooks \u001B[38;5;129;01mor\u001B[39;00m _global_backward_hooks\n\u001B[1;32m   1500\u001B[0m         \u001B[38;5;129;01mor\u001B[39;00m _global_forward_hooks \u001B[38;5;129;01mor\u001B[39;00m _global_forward_pre_hooks):\n\u001B[0;32m-> 1501\u001B[0m     \u001B[38;5;28;01mreturn\u001B[39;00m \u001B[43mforward_call\u001B[49m\u001B[43m(\u001B[49m\u001B[38;5;241;43m*\u001B[39;49m\u001B[43margs\u001B[49m\u001B[43m,\u001B[49m\u001B[43m \u001B[49m\u001B[38;5;241;43m*\u001B[39;49m\u001B[38;5;241;43m*\u001B[39;49m\u001B[43mkwargs\u001B[49m\u001B[43m)\u001B[49m\n\u001B[1;32m   1502\u001B[0m \u001B[38;5;66;03m# Do not call functions when jit is used\u001B[39;00m\n\u001B[1;32m   1503\u001B[0m full_backward_hooks, non_full_backward_hooks \u001B[38;5;241m=\u001B[39m [], []\n",
      "File \u001B[0;32m~/workspace/HEPT/example/transformer.py:243\u001B[0m, in \u001B[0;36mTransformer.forward\u001B[0;34m(self, data)\u001B[0m\n\u001B[1;32m    241\u001B[0m         encoded_x \u001B[38;5;241m=\u001B[39m checkpoint(\u001B[38;5;28mself\u001B[39m\u001B[38;5;241m.\u001B[39mattns[i], encoded_x, kwargs)\n\u001B[1;32m    242\u001B[0m     \u001B[38;5;28;01melse\u001B[39;00m:\n\u001B[0;32m--> 243\u001B[0m         encoded_x \u001B[38;5;241m=\u001B[39m \u001B[38;5;28;43mself\u001B[39;49m\u001B[38;5;241;43m.\u001B[39;49m\u001B[43mattns\u001B[49m\u001B[43m[\u001B[49m\u001B[43mi\u001B[49m\u001B[43m]\u001B[49m\u001B[43m(\u001B[49m\u001B[43mencoded_x\u001B[49m\u001B[43m,\u001B[49m\u001B[43m \u001B[49m\u001B[43mkwargs\u001B[49m\u001B[43m)\u001B[49m\n\u001B[1;32m    244\u001B[0m     all_encoded_x\u001B[38;5;241m.\u001B[39mappend(encoded_x)\n\u001B[1;32m    246\u001B[0m encoded_x \u001B[38;5;241m=\u001B[39m \u001B[38;5;28mself\u001B[39m\u001B[38;5;241m.\u001B[39mW(torch\u001B[38;5;241m.\u001B[39mcat(all_encoded_x, dim\u001B[38;5;241m=\u001B[39m\u001B[38;5;241m-\u001B[39m\u001B[38;5;241m1\u001B[39m))\n",
      "File \u001B[0;32m~/anaconda3/envs/autogeo/lib/python3.11/site-packages/torch/nn/modules/module.py:1501\u001B[0m, in \u001B[0;36mModule._call_impl\u001B[0;34m(self, *args, **kwargs)\u001B[0m\n\u001B[1;32m   1496\u001B[0m \u001B[38;5;66;03m# If we don't have any hooks, we want to skip the rest of the logic in\u001B[39;00m\n\u001B[1;32m   1497\u001B[0m \u001B[38;5;66;03m# this function, and just call forward.\u001B[39;00m\n\u001B[1;32m   1498\u001B[0m \u001B[38;5;28;01mif\u001B[39;00m \u001B[38;5;129;01mnot\u001B[39;00m (\u001B[38;5;28mself\u001B[39m\u001B[38;5;241m.\u001B[39m_backward_hooks \u001B[38;5;129;01mor\u001B[39;00m \u001B[38;5;28mself\u001B[39m\u001B[38;5;241m.\u001B[39m_backward_pre_hooks \u001B[38;5;129;01mor\u001B[39;00m \u001B[38;5;28mself\u001B[39m\u001B[38;5;241m.\u001B[39m_forward_hooks \u001B[38;5;129;01mor\u001B[39;00m \u001B[38;5;28mself\u001B[39m\u001B[38;5;241m.\u001B[39m_forward_pre_hooks\n\u001B[1;32m   1499\u001B[0m         \u001B[38;5;129;01mor\u001B[39;00m _global_backward_pre_hooks \u001B[38;5;129;01mor\u001B[39;00m _global_backward_hooks\n\u001B[1;32m   1500\u001B[0m         \u001B[38;5;129;01mor\u001B[39;00m _global_forward_hooks \u001B[38;5;129;01mor\u001B[39;00m _global_forward_pre_hooks):\n\u001B[0;32m-> 1501\u001B[0m     \u001B[38;5;28;01mreturn\u001B[39;00m \u001B[43mforward_call\u001B[49m\u001B[43m(\u001B[49m\u001B[38;5;241;43m*\u001B[39;49m\u001B[43margs\u001B[49m\u001B[43m,\u001B[49m\u001B[43m \u001B[49m\u001B[38;5;241;43m*\u001B[39;49m\u001B[38;5;241;43m*\u001B[39;49m\u001B[43mkwargs\u001B[49m\u001B[43m)\u001B[49m\n\u001B[1;32m   1502\u001B[0m \u001B[38;5;66;03m# Do not call functions when jit is used\u001B[39;00m\n\u001B[1;32m   1503\u001B[0m full_backward_hooks, non_full_backward_hooks \u001B[38;5;241m=\u001B[39m [], []\n",
      "File \u001B[0;32m~/workspace/HEPT/example/transformer.py:295\u001B[0m, in \u001B[0;36mAttn.forward\u001B[0;34m(self, x, kwargs)\u001B[0m\n\u001B[1;32m    293\u001B[0m x_normed \u001B[38;5;241m=\u001B[39m \u001B[38;5;28mself\u001B[39m\u001B[38;5;241m.\u001B[39mnorm1(x_pe)\n\u001B[1;32m    294\u001B[0m q, k, v \u001B[38;5;241m=\u001B[39m \u001B[38;5;28mself\u001B[39m\u001B[38;5;241m.\u001B[39mw_q(x_normed), \u001B[38;5;28mself\u001B[39m\u001B[38;5;241m.\u001B[39mw_k(x_normed), \u001B[38;5;28mself\u001B[39m\u001B[38;5;241m.\u001B[39mw_v(x_normed)\n\u001B[0;32m--> 295\u001B[0m aggr_out \u001B[38;5;241m=\u001B[39m \u001B[38;5;28;43mself\u001B[39;49m\u001B[38;5;241;43m.\u001B[39;49m\u001B[43mattn\u001B[49m\u001B[43m(\u001B[49m\u001B[43mq\u001B[49m\u001B[43m,\u001B[49m\u001B[43m \u001B[49m\u001B[43mk\u001B[49m\u001B[43m,\u001B[49m\u001B[43m \u001B[49m\u001B[43mv\u001B[49m\u001B[43m,\u001B[49m\u001B[43m \u001B[49m\u001B[43mpe\u001B[49m\u001B[38;5;241;43m=\u001B[39;49m\u001B[43mpe\u001B[49m\u001B[43m,\u001B[49m\u001B[43m \u001B[49m\u001B[43mw_rpe\u001B[49m\u001B[38;5;241;43m=\u001B[39;49m\u001B[38;5;28;43mself\u001B[39;49m\u001B[38;5;241;43m.\u001B[39;49m\u001B[43mw_rpe\u001B[49m\u001B[43m,\u001B[49m\u001B[43m \u001B[49m\u001B[38;5;241;43m*\u001B[39;49m\u001B[38;5;241;43m*\u001B[39;49m\u001B[43mkwargs\u001B[49m\u001B[43m)\u001B[49m\n\u001B[1;32m    297\u001B[0m x \u001B[38;5;241m=\u001B[39m x \u001B[38;5;241m+\u001B[39m \u001B[38;5;28mself\u001B[39m\u001B[38;5;241m.\u001B[39mdropout(aggr_out)\n\u001B[1;32m    298\u001B[0m ff_output \u001B[38;5;241m=\u001B[39m \u001B[38;5;28mself\u001B[39m\u001B[38;5;241m.\u001B[39mff(\u001B[38;5;28mself\u001B[39m\u001B[38;5;241m.\u001B[39mnorm2(x))\n",
      "File \u001B[0;32m~/anaconda3/envs/autogeo/lib/python3.11/site-packages/torch/nn/modules/module.py:1501\u001B[0m, in \u001B[0;36mModule._call_impl\u001B[0;34m(self, *args, **kwargs)\u001B[0m\n\u001B[1;32m   1496\u001B[0m \u001B[38;5;66;03m# If we don't have any hooks, we want to skip the rest of the logic in\u001B[39;00m\n\u001B[1;32m   1497\u001B[0m \u001B[38;5;66;03m# this function, and just call forward.\u001B[39;00m\n\u001B[1;32m   1498\u001B[0m \u001B[38;5;28;01mif\u001B[39;00m \u001B[38;5;129;01mnot\u001B[39;00m (\u001B[38;5;28mself\u001B[39m\u001B[38;5;241m.\u001B[39m_backward_hooks \u001B[38;5;129;01mor\u001B[39;00m \u001B[38;5;28mself\u001B[39m\u001B[38;5;241m.\u001B[39m_backward_pre_hooks \u001B[38;5;129;01mor\u001B[39;00m \u001B[38;5;28mself\u001B[39m\u001B[38;5;241m.\u001B[39m_forward_hooks \u001B[38;5;129;01mor\u001B[39;00m \u001B[38;5;28mself\u001B[39m\u001B[38;5;241m.\u001B[39m_forward_pre_hooks\n\u001B[1;32m   1499\u001B[0m         \u001B[38;5;129;01mor\u001B[39;00m _global_backward_pre_hooks \u001B[38;5;129;01mor\u001B[39;00m _global_backward_hooks\n\u001B[1;32m   1500\u001B[0m         \u001B[38;5;129;01mor\u001B[39;00m _global_forward_hooks \u001B[38;5;129;01mor\u001B[39;00m _global_forward_pre_hooks):\n\u001B[0;32m-> 1501\u001B[0m     \u001B[38;5;28;01mreturn\u001B[39;00m \u001B[43mforward_call\u001B[49m\u001B[43m(\u001B[49m\u001B[38;5;241;43m*\u001B[39;49m\u001B[43margs\u001B[49m\u001B[43m,\u001B[49m\u001B[43m \u001B[49m\u001B[38;5;241;43m*\u001B[39;49m\u001B[38;5;241;43m*\u001B[39;49m\u001B[43mkwargs\u001B[49m\u001B[43m)\u001B[49m\n\u001B[1;32m   1502\u001B[0m \u001B[38;5;66;03m# Do not call functions when jit is used\u001B[39;00m\n\u001B[1;32m   1503\u001B[0m full_backward_hooks, non_full_backward_hooks \u001B[38;5;241m=\u001B[39m [], []\n",
      "File \u001B[0;32m~/workspace/HEPT/example/hept.py:152\u001B[0m, in \u001B[0;36mHEPTAttention.forward\u001B[0;34m(self, query, key, value, **kwargs)\u001B[0m\n\u001B[1;32m    149\u001B[0m k_hat[:, kwargs[\u001B[38;5;124m\"\u001B[39m\u001B[38;5;124mraw_size\u001B[39m\u001B[38;5;124m\"\u001B[39m] :] \u001B[38;5;241m=\u001B[39m \u001B[38;5;241m0.0\u001B[39m\n\u001B[1;32m    150\u001B[0m value[:, kwargs[\u001B[38;5;124m\"\u001B[39m\u001B[38;5;124mraw_size\u001B[39m\u001B[38;5;124m\"\u001B[39m] :] \u001B[38;5;241m=\u001B[39m \u001B[38;5;241m0.0\u001B[39m\n\u001B[0;32m--> 152\u001B[0m q_hashed, k_hashed, hash_shift \u001B[38;5;241m=\u001B[39m \u001B[43mlsh_clustering\u001B[49m\u001B[43m(\u001B[49m\u001B[38;5;28;43mself\u001B[39;49m\u001B[38;5;241;43m.\u001B[39;49m\u001B[43me2lsh\u001B[49m\u001B[43m,\u001B[49m\u001B[43m \u001B[49m\u001B[43mq_hat\u001B[49m\u001B[43m,\u001B[49m\u001B[43m \u001B[49m\u001B[43mk_hat\u001B[49m\u001B[43m,\u001B[49m\u001B[43m \u001B[49m\u001B[38;5;28;43mself\u001B[39;49m\u001B[38;5;241;43m.\u001B[39;49m\u001B[43mblock_size\u001B[49m\u001B[43m,\u001B[49m\u001B[43m \u001B[49m\u001B[43mr\u001B[49m\u001B[38;5;241;43m=\u001B[39;49m\u001B[38;5;241;43m1\u001B[39;49m\u001B[43m)\u001B[49m\n\u001B[1;32m    153\u001B[0m q_hashed[\u001B[38;5;241m.\u001B[39m\u001B[38;5;241m.\u001B[39m\u001B[38;5;241m.\u001B[39m, kwargs[\u001B[38;5;124m\"\u001B[39m\u001B[38;5;124mraw_size\u001B[39m\u001B[38;5;124m\"\u001B[39m]:] \u001B[38;5;241m=\u001B[39m \u001B[38;5;28mfloat\u001B[39m(\u001B[38;5;124m\"\u001B[39m\u001B[38;5;124minf\u001B[39m\u001B[38;5;124m\"\u001B[39m)\n\u001B[1;32m    154\u001B[0m k_hashed[\u001B[38;5;241m.\u001B[39m\u001B[38;5;241m.\u001B[39m\u001B[38;5;241m.\u001B[39m, kwargs[\u001B[38;5;124m\"\u001B[39m\u001B[38;5;124mraw_size\u001B[39m\u001B[38;5;124m\"\u001B[39m]:] \u001B[38;5;241m=\u001B[39m \u001B[38;5;28mfloat\u001B[39m(\u001B[38;5;124m\"\u001B[39m\u001B[38;5;124minf\u001B[39m\u001B[38;5;124m\"\u001B[39m)\n",
      "File \u001B[0;32m~/anaconda3/envs/autogeo/lib/python3.11/site-packages/torch/utils/_contextlib.py:115\u001B[0m, in \u001B[0;36mcontext_decorator.<locals>.decorate_context\u001B[0;34m(*args, **kwargs)\u001B[0m\n\u001B[1;32m    112\u001B[0m \u001B[38;5;129m@functools\u001B[39m\u001B[38;5;241m.\u001B[39mwraps(func)\n\u001B[1;32m    113\u001B[0m \u001B[38;5;28;01mdef\u001B[39;00m \u001B[38;5;21mdecorate_context\u001B[39m(\u001B[38;5;241m*\u001B[39margs, \u001B[38;5;241m*\u001B[39m\u001B[38;5;241m*\u001B[39mkwargs):\n\u001B[1;32m    114\u001B[0m     \u001B[38;5;28;01mwith\u001B[39;00m ctx_factory():\n\u001B[0;32m--> 115\u001B[0m         \u001B[38;5;28;01mreturn\u001B[39;00m \u001B[43mfunc\u001B[49m\u001B[43m(\u001B[49m\u001B[38;5;241;43m*\u001B[39;49m\u001B[43margs\u001B[49m\u001B[43m,\u001B[49m\u001B[43m \u001B[49m\u001B[38;5;241;43m*\u001B[39;49m\u001B[38;5;241;43m*\u001B[39;49m\u001B[43mkwargs\u001B[49m\u001B[43m)\u001B[49m\n",
      "File \u001B[0;32m~/workspace/HEPT/example/hept.py:50\u001B[0m, in \u001B[0;36mlsh_clustering\u001B[0;34m(e2lsh, queries, keys, block_size, r)\u001B[0m\n\u001B[1;32m     48\u001B[0m queries_hashed \u001B[38;5;241m=\u001B[39m e2lsh(queries)\n\u001B[1;32m     49\u001B[0m keys_hashed \u001B[38;5;241m=\u001B[39m e2lsh(keys)\n\u001B[0;32m---> 50\u001B[0m hash_shift \u001B[38;5;241m=\u001B[39m \u001B[38;5;28;43mmax\u001B[39;49m\u001B[43m(\u001B[49m\u001B[43mqueries_hashed\u001B[49m\u001B[38;5;241;43m.\u001B[39;49m\u001B[43mmax\u001B[49m\u001B[43m(\u001B[49m\u001B[43m)\u001B[49m\u001B[43m,\u001B[49m\u001B[43m \u001B[49m\u001B[43mkeys_hashed\u001B[49m\u001B[38;5;241;43m.\u001B[39;49m\u001B[43mmax\u001B[49m\u001B[43m(\u001B[49m\u001B[43m)\u001B[49m\u001B[43m)\u001B[49m \u001B[38;5;241m-\u001B[39m \u001B[38;5;28mmin\u001B[39m(queries_hashed\u001B[38;5;241m.\u001B[39mmin(), keys_hashed\u001B[38;5;241m.\u001B[39mmin())\n\u001B[1;32m     51\u001B[0m \u001B[38;5;28;01mreturn\u001B[39;00m queries_hashed, keys_hashed, hash_shift\n",
      "\u001B[0;31mKeyboardInterrupt\u001B[0m: "
     ]
    }
   ],
   "execution_count": 7
  }
 ],
 "metadata": {
  "kernelspec": {
   "display_name": "Python 3",
   "language": "python",
   "name": "python3"
  },
  "language_info": {
   "codemirror_mode": {
    "name": "ipython",
    "version": 2
   },
   "file_extension": ".py",
   "mimetype": "text/x-python",
   "name": "python",
   "nbconvert_exporter": "python",
   "pygments_lexer": "ipython2",
   "version": "2.7.6"
  }
 },
 "nbformat": 4,
 "nbformat_minor": 5
}
